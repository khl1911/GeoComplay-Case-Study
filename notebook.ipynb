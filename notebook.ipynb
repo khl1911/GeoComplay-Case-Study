{
 "cells": [
  {
   "cell_type": "markdown",
   "id": "9c82b06f",
   "metadata": {},
   "source": [
    "# Importing Libraries"
   ]
  },
  {
   "cell_type": "code",
   "execution_count": null,
   "id": "40730c46",
   "metadata": {},
   "outputs": [],
   "source": [
    "import pandas as pd\n",
    "import numpy as np\n",
    "from geopy.geocoders import Nominatim"
   ]
  },
  {
   "cell_type": "markdown",
   "id": "1007f66e",
   "metadata": {},
   "source": [
    "# Loading Data"
   ]
  },
  {
   "cell_type": "code",
   "execution_count": 11,
   "id": "dd3c5543",
   "metadata": {},
   "outputs": [
    {
     "name": "stdout",
     "output_type": "stream",
     "text": [
      "ID                                int64\n",
      "Time                     datetime64[ns]\n",
      "Amount of money (VND)             int64\n",
      "Vendor                           object\n",
      "Latitude                        float64\n",
      "Longitude                       float64\n",
      "IP Address                       object\n",
      "Device’s Address                 object\n",
      "dtype: object\n",
      "   ID                Time  Amount of money (VND)     Vendor   Latitude  \\\n",
      "0   1 2020-09-02 18:43:06                1000000       Tiki  10.772109   \n",
      "1   2 2020-09-05 20:40:00                2000000      Apple  20.837134   \n",
      "2   3 2020-09-06 05:26:03                3000000  Microsoft  38.897710   \n",
      "\n",
      "    Longitude     IP Address   Device’s Address  \n",
      "0  106.698278  118.69.35.205  F4:5C:89:A3:03:A7  \n",
      "1  106.686365   156.33.241.5  A8:20:66:58:8D:41  \n",
      "2  -77.036487     13.32.32.0  BC:3D:85:22:19:BC  \n"
     ]
    }
   ],
   "source": [
    "data = pd.read_excel(\"bank_statement.xlsx\")\n",
    "print(data.dtypes) # Display data types\n",
    "print(data.head(3))"
   ]
  },
  {
   "cell_type": "markdown",
   "id": "783366dd",
   "metadata": {},
   "source": [
    "# Cleaning Data"
   ]
  },
  {
   "cell_type": "code",
   "execution_count": 12,
   "id": "5eb1dc82",
   "metadata": {},
   "outputs": [
    {
     "name": "stdout",
     "output_type": "stream",
     "text": [
      "   ID                Time  Amount of money (VND)     Vendor   Latitude  \\\n",
      "0   1 2020-09-02 18:43:06                1000000       Tiki  10.772109   \n",
      "1   2 2020-09-05 20:40:00                2000000      Apple  20.837134   \n",
      "2   3 2020-09-06 05:26:03                3000000  Microsoft  38.897710   \n",
      "\n",
      "    Longitude     IP Address   Device’s Address  \n",
      "0  106.698278  118.69.35.205  F4:5C:89:A3:03:A7  \n",
      "1  106.686365   156.33.241.5  A8:20:66:58:8D:41  \n",
      "2  -77.036487     13.32.32.0  BC:3D:85:22:19:BC  \n"
     ]
    }
   ],
   "source": [
    "def clean_data(df):\n",
    "    # Create a copy of the data\n",
    "    data_clean = df.copy()\n",
    "    # Remove missing values\n",
    "    data_clean = df.dropna()\n",
    "    # Remove duplicates\n",
    "    data_clean = df.drop_duplicates(subset=\"ID\", keep= \"first\")\n",
    "    return data_clean\n",
    "data_clean = clean_data(data)\n",
    "print(data_clean.head(3))"
   ]
  },
  {
   "cell_type": "markdown",
   "id": "e906d3cd",
   "metadata": {},
   "source": [
    "# Transforming coordinates to location"
   ]
  },
  {
   "cell_type": "code",
   "execution_count": null,
   "id": "7ce76b7b",
   "metadata": {},
   "outputs": [
    {
     "name": "stderr",
     "output_type": "stream",
     "text": [
      "C:\\Users\\Khanh Hoa\\AppData\\Local\\Temp\\ipykernel_5544\\577935205.py:27: FutureWarning: Setting an item of incompatible dtype is deprecated and will raise an error in a future version of pandas. Value 'Ben Thanh Market, Quach Thi Trang Square, Khu phố 8, Phường Bến Thành, Ho Chi Minh City, 71009, Vietnam' has dtype incompatible with float64, please explicitly cast to a compatible dtype first.\n",
      "  data_clean.loc[i, \"Location\"] = loc.address if loc else \"Not found\" # if not found, return \"Not found\"\n"
     ]
    },
    {
     "name": "stdout",
     "output_type": "stream",
     "text": [
      "   ID                Time  Amount of money (VND)     Vendor   Latitude  \\\n",
      "0   1 2020-09-02 18:43:06                1000000       Tiki  10.772109   \n",
      "1   2 2020-09-05 20:40:00                2000000      Apple  20.837134   \n",
      "2   3 2020-09-06 05:26:03                3000000  Microsoft  38.897710   \n",
      "3   4 2020-09-10 08:06:50                3000000       Nike  48.794301   \n",
      "4   5 2020-09-15 22:40:00                3000000     Amazon  38.897575   \n",
      "5   6 2020-09-16 21:15:00                3200000     Adidas -30.418506   \n",
      "6   7 2020-09-18 23:40:00                3500000     Chanel -92.253425   \n",
      "7   8 2020-09-19 20:42:00                2000000     Lazada  38.897197   \n",
      "8   9 2020-09-20 09:58:00                5000000       Puma  10.772836   \n",
      "9  10 2020-09-25 03:56:00                2500000     Google -37.809677   \n",
      "\n",
      "    Longitude       IP Address                      Device’s Address  \\\n",
      "0  106.698278    118.69.35.205                     F4:5C:89:A3:03:A7   \n",
      "1  106.686365     156.33.241.5                     A8:20:66:58:8D:41   \n",
      "2  -77.036487       13.32.32.0                     BC:3D:85:22:19:BC   \n",
      "3   29.116393  173.166.164.121                     D0:77:14:9C:77:24   \n",
      "4  -77.035641     156.33.241.8  BE084451-3CC0-46FB-8CCE-F29D2C48B68D   \n",
      "5 -131.569966  173.166.175.121                     00:9D:6B:0D:03:0C   \n",
      "6  -12.568422   98.139.212.180  86310E68-9C9A-437E-9EA7-58CCD3DEB168   \n",
      "7  -77.037511     156.33.242.9                     A8:20:66:58:8D:41   \n",
      "8  106.697952     156.33.341.9  E892B60A-05EB-4F56-9C1D-AE6C08FF1E55   \n",
      "9  144.967557    156.33.241.10                     BC:3D:85:22:19:BC   \n",
      "\n",
      "                                            Location  \n",
      "0  Ben Thanh Market, Quach Thi Trang Square, Khu ...  \n",
      "1  Phố Đông Trà, Phường Lê Chân, Lê Chân District...  \n",
      "2  White House, 1600, Pennsylvania Avenue Northwe...  \n",
      "3  Antsypolivka, Bratslav Settlement Hromada, Tul...  \n",
      "4  The East Wing, 1600, Pennsylvania Avenue North...  \n",
      "5                                          Not found  \n",
      "6                                            Invalid  \n",
      "7  Cabana, West Executive Avenue Northwest, Downt...  \n",
      "8  Ben Thanh Market, Quach Thi Trang Square, Khu ...  \n",
      "9  155 Little Lonsdale, 155, Little Lonsdale Stre...  \n"
     ]
    }
   ],
   "source": [
    "from geopy.extra.rate_limiter import RateLimiter\n",
    "\n",
    "geolocator = Nominatim(user_agent=\"geoapi\")\n",
    "reverse = RateLimiter(geolocator.reverse, min_delay_seconds=1, error_wait_seconds=2, max_retries=2, swallow_exceptions=True)\n",
    "\n",
    "# Create a location column\n",
    "data_clean[\"Location\"] = np.nan\n",
    "\n",
    "# get the location base on coordinate\n",
    "for i in range(len(data_clean)):\n",
    "    lat = data_clean.loc[i, \"Latitude\"]\n",
    "    lon = data_clean.loc[i, \"Longitude\"]\n",
    "\n",
    "    # check valid coordinate\n",
    "    valid = (\n",
    "        pd.notna(lat) and pd.notna(lon) and\n",
    "        (-90.0 <= float(lat) <= 90.0) and\n",
    "        (-180.0 <= float(lon) <= 180.0)\n",
    "    )\n",
    "\n",
    "    if not valid:\n",
    "        data_clean.loc[i, \"Location\"] = \"Invalid\"\n",
    "        continue\n",
    "\n",
    "    # geopy.reverse\n",
    "    loc = reverse((float(lat), float(lon)), exactly_one=True, language=\"en\", timeout=10) # only get the exactest location\n",
    "    data_clean.loc[i, \"Location\"] = loc.address if loc else \"Not found\" # if not found, return \"Not found\"\n",
    "print(data_clean)"
   ]
  },
  {
   "cell_type": "markdown",
   "id": "01019d78",
   "metadata": {},
   "source": [
    "# Transforming IP address to location"
   ]
  },
  {
   "cell_type": "code",
   "execution_count": null,
   "id": "24b3c63d",
   "metadata": {},
   "outputs": [
    {
     "name": "stderr",
     "output_type": "stream",
     "text": [
      "C:\\Users\\Khanh Hoa\\AppData\\Local\\Temp\\ipykernel_5544\\2311241570.py:17: FutureWarning: Setting an item of incompatible dtype is deprecated and will raise an error in a future version of pandas. Value 'Ho Chi Minh City, Vietnam' has dtype incompatible with float64, please explicitly cast to a compatible dtype first.\n",
      "  data_clean.loc[i, \"IP Geolocation\"] = f\"{city}, {country}\"\n"
     ]
    }
   ],
   "source": [
    "import requests\n",
    "\n",
    "# create a new column\n",
    "data_clean[\"IP Geolocation\"] = np.nan\n",
    "# get the location base on coordinate\n",
    "for i in range(len(data_clean)):\n",
    "    ip = data_clean.loc[i, \"IP Address\"]\n",
    "    url = f\"http://ip-api.com/json/{ip}\"\n",
    "    \n",
    "    try:\n",
    "        response = requests.get(url, timeout=5)\n",
    "        ip_loc = response.json()\n",
    "        # if the status is success, get the city and country\n",
    "        if ip_loc.get(\"status\") == \"success\":\n",
    "            city = ip_loc.get(\"city\", \"Unknown\")\n",
    "            country = ip_loc.get(\"country\", \"Unknown\")\n",
    "            data_clean.loc[i, \"IP Geolocation\"] = f\"{city}, {country}\"\n",
    "        else: \n",
    "            data_clean.loc[i, \"IP Geolocation\"] = \"Not found\"\n",
    "    except Exception as e: # if there is an error, return the error message\n",
    "        data_clean.loc[i, \"IP Geolocation\"] = f\"Error: {e}\"\n",
    "# export to excel file\n",
    "data_clean.to_excel(\"data_clean.xlsx\", index=False)"
   ]
  }
 ],
 "metadata": {
  "kernelspec": {
   "display_name": "vir_env",
   "language": "python",
   "name": "python3"
  },
  "language_info": {
   "codemirror_mode": {
    "name": "ipython",
    "version": 3
   },
   "file_extension": ".py",
   "mimetype": "text/x-python",
   "name": "python",
   "nbconvert_exporter": "python",
   "pygments_lexer": "ipython3",
   "version": "3.12.10"
  }
 },
 "nbformat": 4,
 "nbformat_minor": 5
}
